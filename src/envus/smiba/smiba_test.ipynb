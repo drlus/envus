{
 "cells": [
  {
   "cell_type": "code",
   "execution_count": 30,
   "id": "d16c97a3-463d-457d-b2f8-c86a733e3d3a",
   "metadata": {},
   "outputs": [],
   "source": [
    "import numpy as np\n",
    "import matplotlib.pyplot as plt\n",
    "import smiba_dae\n",
    "import smiba_env"
   ]
  },
  {
   "cell_type": "code",
   "execution_count": 31,
   "id": "df6d87ff-df53-4855-900b-874c86759f0c",
   "metadata": {},
   "outputs": [],
   "source": [
    "model = smiba_dae.model()"
   ]
  },
  {
   "cell_type": "code",
   "execution_count": 40,
   "id": "4aeb9bbf-91b0-47a2-b2b0-ef25c3bfb236",
   "metadata": {},
   "outputs": [
    {
     "data": {
      "text/plain": [
       "True"
      ]
     },
     "execution_count": 40,
     "metadata": {},
     "output_type": "execute_result"
    }
   ],
   "source": [
    "p_m = 0.1\n",
    "model.ini({'K_avr':100,'v_s':0.0,'p_m':p_m},\n",
    "          {'delta':0.0,'omega':1.0, 'v_t':1.0,'theta':0.0,'v_f':1.0,'e1q':1.0})"
   ]
  },
  {
   "cell_type": "code",
   "execution_count": 41,
   "id": "a70da499-2276-4c08-877a-ce1690a0147a",
   "metadata": {},
   "outputs": [
    {
     "name": "stdout",
     "output_type": "stream",
     "text": [
      "delta =  0.18\n",
      "omega =  1.00\n",
      "e1q   =  0.99\n",
      "e1d   =  0.11\n",
      "i_d   =  0.01\n",
      "i_q   =  0.10\n",
      "p_t   =  0.10\n",
      "q_t   = -0.00\n",
      "v_t   =  1.00\n",
      "theta_t =  0.00\n",
      "v_f   =  1.01\n",
      "p_m   = 0.10\n",
      "v_ref = 1.00\n",
      "v_s   = 0.00\n",
      "v_0   = 1.00\n"
     ]
    }
   ],
   "source": [
    "model.report_x()\n",
    "model.report_y()\n",
    "model.report_u()"
   ]
  },
  {
   "cell_type": "code",
   "execution_count": 5,
   "id": "7e72e2e9-1702-4fce-80e9-aee66d80dab1",
   "metadata": {},
   "outputs": [],
   "source": [
    "env = smiba_env.SmibaDAE()"
   ]
  },
  {
   "cell_type": "code",
   "execution_count": 6,
   "id": "c5295c73-447e-41cf-aa12-df59d971caba",
   "metadata": {},
   "outputs": [
    {
     "data": {
      "text/plain": [
       "array([ 0.9978529 ,  1.        ,  0.49921614, -0.10462663], dtype=float32)"
      ]
     },
     "execution_count": 6,
     "metadata": {},
     "output_type": "execute_result"
    }
   ],
   "source": [
    "env.reset()"
   ]
  },
  {
   "cell_type": "code",
   "execution_count": 8,
   "id": "89646231-ed64-4f65-9007-cea2f9d85515",
   "metadata": {},
   "outputs": [
    {
     "data": {
      "text/plain": [
       "(array([ 1.0063484 ,  1.0001248 ,  0.47363076, -0.14766818], dtype=float32),\n",
       " -3.6355566063051246,\n",
       " False,\n",
       " {})"
      ]
     },
     "execution_count": 8,
     "metadata": {},
     "output_type": "execute_result"
    }
   ],
   "source": [
    "env.step(np.array([0.0]))"
   ]
  },
  {
   "cell_type": "code",
   "execution_count": 29,
   "id": "f3e302e3-5700-40bc-83be-9d1b4551cf2e",
   "metadata": {},
   "outputs": [
    {
     "data": {
      "text/plain": [
       "[<matplotlib.lines.Line2D at 0x7fa46a0b2760>]"
      ]
     },
     "execution_count": 29,
     "metadata": {},
     "output_type": "execute_result"
    },
    {
     "data": {
      "image/png": "[encoded data removed]",
      "text/plain": [
       "<Figure size 432x288 with 3 Axes>"
      ]
     },
     "metadata": {
      "needs_background": "light"
     },
     "output_type": "display_data"
    }
   ],
   "source": [
    "env.DV_0 = 1e-8\n",
    "obs = env.reset()\n",
    "\n",
    "v_t,omega,p_t,q_t = env.dae.get_mvalue(['v_t','omega','p_t','q_t'])\n",
    "\n",
    "#env.dae.xy[0] = np.pi\n",
    "times = np.arange(0,10,env.dt)\n",
    "for t in times:\n",
    "    v_s = -0*(1 - omega)\n",
    "    env.dae.run(t,{'v_s':v_s,'v_0':env.v_0})\n",
    "    v_t,omega,p_t,q_t = env.dae.get_mvalue(['v_t','omega','p_t','q_t'])\n",
    "    obs = np.array([v_t,omega,p_t,q_t], dtype=np.float32)\n",
    "env.dae.post();    \n",
    "\n",
    "fig, axes = plt.subplots(nrows=3)\n",
    "axes[0].plot(env.dae.Time,env.dae.get_values('v_f'))\n",
    "axes[1].plot(env.dae.Time,env.dae.get_values('v_t')*0+env.v_0)\n",
    "axes[1].plot(env.dae.Time,env.dae.get_values('v_t'))\n",
    "axes[2].plot(env.dae.Time,env.dae.get_values('omega'))"
   ]
  },
  {
   "cell_type": "code",
   "execution_count": 44,
   "id": "f6cc5289-64f1-4857-8fa1-0a94840b4a26",
   "metadata": {},
   "outputs": [
    {
     "name": "stdout",
     "output_type": "stream",
     "text": [
      "delta =  0.83\n",
      "omega =  1.00\n",
      "e1q   =  0.77\n",
      "e1d   =  0.46\n",
      "i_d   =  0.30\n",
      "i_q   =  0.42\n",
      "p_t   =  0.50\n",
      "q_t   = -0.10\n",
      "v_t   =  1.00\n",
      "theta_t =  0.01\n",
      "v_f   =  1.21\n"
     ]
    }
   ],
   "source": [
    "model.save_xy_0('xy_0.json')\n",
    "\n",
    "p_m = 0.5\n",
    "model.ini({'K_avr':100,'v_s':0.0,'p_m':p_m},'xy_0.json')\n",
    "model.report_x()\n",
    "model.report_y()"
   ]
  },
  {
   "cell_type": "code",
   "execution_count": 7,
   "id": "17241b34-9008-437a-b132-e10abd35073b",
   "metadata": {},
   "outputs": [
    {
     "name": "stdout",
     "output_type": "stream",
     "text": [
      "Requirement already satisfied: pydae in /opt/conda/lib/python3.9/site-packages (0.23.0)\n",
      "Collecting pydae\n",
      "  Downloading pydae-0.23.1-py2.py3-none-any.whl (4.8 MB)\n",
      "\u001b[2K     \u001b[90m━━━━━━━━━━━━━━━━━━━━━━━━━━━━━━━━━━━━━━━━\u001b[0m \u001b[32m4.8/4.8 MB\u001b[0m \u001b[31m2.6 MB/s\u001b[0m eta \u001b[36m0:00:00\u001b[0m00:01\u001b[0m00:01\u001b[0m\n",
      "\u001b[?25hInstalling collected packages: pydae\n",
      "  Attempting uninstall: pydae\n",
      "    Found existing installation: pydae 0.23.0\n",
      "    Uninstalling pydae-0.23.0:\n",
      "      Successfully uninstalled pydae-0.23.0\n",
      "Successfully installed pydae-0.23.1\n"
     ]
    }
   ],
   "source": [
    "!pip install --upgrade pydae"
   ]
  },
  {
   "cell_type": "code",
   "execution_count": null,
   "id": "0b065c48-1226-4c03-a782-a6d3aecdfdbf",
   "metadata": {},
   "outputs": [],
   "source": []
  }
 ],
 "metadata": {
  "kernelspec": {
   "display_name": "Python 3 (ipykernel)",
   "language": "python",
   "name": "python3"
  },
  "language_info": {
   "codemirror_mode": {
    "name": "ipython",
    "version": 3
   },
   "file_extension": ".py",
   "mimetype": "text/x-python",
   "name": "python",
   "nbconvert_exporter": "python",
   "pygments_lexer": "ipython3",
   "version": "3.9.12"
  }
 },
 "nbformat": 4,
 "nbformat_minor": 5
}
