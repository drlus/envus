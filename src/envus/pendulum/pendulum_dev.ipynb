{
 "cells": [
  {
   "cell_type": "code",
   "execution_count": 1,
   "id": "39b8ec1c",
   "metadata": {},
   "outputs": [],
   "source": [
    "import numpy as np\n",
    "import numba\n",
    "import pendulum\n",
    "import gym\n"
   ]
  },
  {
   "cell_type": "code",
   "execution_count": 2,
   "id": "3a8a9aa7",
   "metadata": {},
   "outputs": [],
   "source": [
    "env = gym.make('PendulumDAE-v0')"
   ]
  },
  {
   "cell_type": "code",
   "execution_count": 3,
   "id": "086ad30d",
   "metadata": {},
   "outputs": [
    {
     "data": {
      "text/plain": [
       "array([-0.81145966, -0.5844084 , -0.8584258 ], dtype=float32)"
      ]
     },
     "execution_count": 3,
     "metadata": {},
     "output_type": "execute_result"
    }
   ],
   "source": [
    "env.reset()"
   ]
  },
  {
   "cell_type": "code",
   "execution_count": 8,
   "id": "3586607e",
   "metadata": {},
   "outputs": [
    {
     "data": {
      "text/plain": [
       "(array([-0.8871219 , -0.46153516, -1.7339915 ], dtype=float32),\n",
       " -6.411202845216917,\n",
       " False,\n",
       " {})"
      ]
     },
     "execution_count": 8,
     "metadata": {},
     "output_type": "execute_result"
    }
   ],
   "source": [
    "env.step(np.array([0.0]).astype(np.float32))"
   ]
  },
  {
   "cell_type": "code",
   "execution_count": 9,
   "id": "70f57dcb",
   "metadata": {},
   "outputs": [
    {
     "data": {
      "text/plain": [
       "(array([-0.9268386 , -0.37546006, -2.0489488 ], dtype=float32),\n",
       " -7.38621252171419,\n",
       " False,\n",
       " {})"
      ]
     },
     "execution_count": 9,
     "metadata": {},
     "output_type": "execute_result"
    }
   ],
   "source": [
    "env.step(np.array([0.0]).astype(np.float32))"
   ]
  },
  {
   "cell_type": "code",
   "execution_count": 46,
   "id": "56fa30c2",
   "metadata": {},
   "outputs": [],
   "source": [
    "env.reset()\n",
    "times = np.arange(0,10,0.1)\n",
    "\n",
    "for t in times:\n",
    "    step(model,t,{'u':0.01})\n",
    "    #print(model.xy)\n",
    "    \n",
    "model.ini({'u':0.0})\n",
    "times = np.arange(0,10,0.1)\n",
    "\n",
    "for t in times:\n",
    "    step(model,t,{'u':0.01})\n",
    "    #print(model.xy)"
   ]
  },
  {
   "cell_type": "code",
   "execution_count": 47,
   "id": "7c3b1398",
   "metadata": {},
   "outputs": [
    {
     "name": "stdout",
     "output_type": "stream",
     "text": [
      "u     = 0.01\n",
      "u_dummy = 1.00\n"
     ]
    }
   ],
   "source": [
    "model.report_u()"
   ]
  },
  {
   "cell_type": "code",
   "execution_count": 13,
   "id": "e67bc105",
   "metadata": {},
   "outputs": [
    {
     "name": "stdout",
     "output_type": "stream",
     "text": [
      "20.7 ms ± 7.31 ms per loop (mean ± std. dev. of 7 runs, 10 loops each)\n"
     ]
    }
   ],
   "source": [
    "%%timeit\n",
    "\n",
    "env.reset()\n",
    "times = np.arange(0,10,0.1)\n",
    "\n",
    "for t in times:\n",
    "    env.step(np.array([0.0]).astype(np.float32))\n",
    "    #print(model.xy)"
   ]
  },
  {
   "cell_type": "code",
   "execution_count": 42,
   "id": "dd802b3d",
   "metadata": {},
   "outputs": [],
   "source": [
    "model.Dt = 0.1"
   ]
  },
  {
   "cell_type": "code",
   "execution_count": null,
   "id": "0cfda144",
   "metadata": {},
   "outputs": [],
   "source": []
  }
 ],
 "metadata": {
  "kernelspec": {
   "display_name": "Python 3 (ipykernel)",
   "language": "python",
   "name": "python3"
  },
  "language_info": {
   "codemirror_mode": {
    "name": "ipython",
    "version": 3
   },
   "file_extension": ".py",
   "mimetype": "text/x-python",
   "name": "python",
   "nbconvert_exporter": "python",
   "pygments_lexer": "ipython3",
   "version": "3.9.7"
  }
 },
 "nbformat": 4,
 "nbformat_minor": 5
}
