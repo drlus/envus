{
 "cells": [
  {
   "cell_type": "code",
   "execution_count": 1,
   "id": "d63af09b-dedc-4960-bf4b-3b4d91f8f179",
   "metadata": {},
   "outputs": [],
   "source": [
    "import sympy as sym\n",
    "import numpy as np\n",
    "import pydae.build_cffi as cbuilder"
   ]
  },
  {
   "cell_type": "code",
   "execution_count": 5,
   "id": "18f8515e-6f28-4a71-9785-1178a3c1b658",
   "metadata": {},
   "outputs": [
    {
     "name": "stdout",
     "output_type": "stream",
     "text": [
      "system without algebraic equations, adding dummy algebraic equation\n",
      "pendulum\n"
     ]
    }
   ],
   "source": [
    "theta,omega,tau = sym.symbols('theta,omega,tau', real=True)\n",
    "G,M,L = sym.symbols('G,M,L', real=True)\n",
    "\n",
    "dtheta = omega\n",
    "domega = (3 * G / (2 * L) * sym.sin(theta) + 3.0 / (M * L**2) * tau) \n",
    "\n",
    "x_list = [ theta, omega]\n",
    "f_list = [dtheta,domega]\n",
    "\n",
    "params_dict = {'G':9.8,'M':1,'L':1}\n",
    "u_dict = {'tau':0.0}\n",
    "h_dict = {'x_pos':sym.cos(theta),'y_pos':sym.sin(theta),'tau':tau}\n",
    "\n",
    "#    | Num | Observation      | Min  | Max |\n",
    "#    |-----|------------------|------|-----|\n",
    "#    | 0   | x = cos(theta)   | -1.0 | 1.0 |\n",
    "#    | 1   | y = sin(angle)   | -1.0 | 1.0 |\n",
    "#    | 2   | Angular Velocity | -8.0 | 8.0 |\n",
    "\n",
    "sys = {'name':'pendulum_dae','enviroment':'pendulum',\n",
    "       'params_dict':params_dict,\n",
    "       'f_list':f_list,\n",
    "       'g_list':[],\n",
    "       'x_list':x_list,\n",
    "       'y_ini_list':[],\n",
    "       'y_run_list':[],\n",
    "       'u_run_dict':u_dict,\n",
    "       'u_ini_dict':u_dict,\n",
    "       'h_dict':h_dict}\n",
    "\n",
    "bldr = cbuilder.builder(sys)\n",
    "bldr.build()"
   ]
  },
  {
   "cell_type": "raw",
   "id": "feae3f56-00d5-4453-9090-d93469203b94",
   "metadata": {},
   "source": [
    "para que corra en gym:\n",
    "    \n",
    "    cambiar la forma en que se leen las matrices dato:\n",
    "    \n",
    "    from io import BytesIO\n",
    "\n",
    "        fobj = BytesIO(pkgutil.get_data(__name__, '__pycache__/pendulum_dae_sp_jac_ini_num.npz'))\n",
    "        self.sp_jac_ini = sspa.load_npz(fobj)\n",
    "        \n",
    "        fobj = BytesIO(pkgutil.get_data(__name__, '__pycache__/pendulum_dae_sp_jac_run_num.npz'))\n",
    "        self.sp_jac_run = sspa.load_npz(fobj)       \n",
    "        \n",
    "        fobj = BytesIO(pkgutil.get_data(__name__, '__pycache__/pendulum_dae_sp_jac_trap_num.npz'))\n",
    "        self.sp_jac_trap = sspa.load_npz(fobj)    \n",
    "    \n",
    "    \n",
    "     cambiar la forma de importar\n",
    "import pendulum.envs.pendulum_dae_cffi as jacs\n",
    "\n"
   ]
  },
  {
   "cell_type": "code",
   "execution_count": null,
   "id": "a0ab8328",
   "metadata": {},
   "outputs": [],
   "source": []
  },
  {
   "cell_type": "code",
   "execution_count": null,
   "id": "cfa26716",
   "metadata": {},
   "outputs": [],
   "source": []
  }
 ],
 "metadata": {
  "kernelspec": {
   "display_name": "Python 3 (ipykernel)",
   "language": "python",
   "name": "python3"
  },
  "language_info": {
   "codemirror_mode": {
    "name": "ipython",
    "version": 3
   },
   "file_extension": ".py",
   "mimetype": "text/x-python",
   "name": "python",
   "nbconvert_exporter": "python",
   "pygments_lexer": "ipython3",
   "version": "3.9.12"
  }
 },
 "nbformat": 4,
 "nbformat_minor": 5
}
