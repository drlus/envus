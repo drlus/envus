{
 "cells": [
  {
   "cell_type": "code",
   "execution_count": 1,
   "id": "d63af09b-dedc-4960-bf4b-3b4d91f8f179",
   "metadata": {},
   "outputs": [],
   "source": [
    "import sympy as sym\n",
    "import numpy as np\n",
    "import pydae.build_cffi as cbuilder"
   ]
  },
  {
   "cell_type": "code",
   "execution_count": 2,
   "id": "1f8bf69f-dd1f-4a8f-8783-81a62c2f2815",
   "metadata": {},
   "outputs": [],
   "source": [
    "sin, cos = sym.sin,sym.cos\n",
    "delta,omega,e1q,e1d = sym.symbols('delta,omega,e1q,e1d', real=True) # dynamic states\n",
    "i_d,i_q,p_t,q_t,v_t,theta_t = sym.symbols('i_d,i_q,p_t,q_t,v_t,theta_t',real=True) # algebraic states\n",
    "p_m,v_f = sym.symbols('p_m,v_f',real=True) # algebraic states\n",
    "X_d,X1d,T1d0,X_q,X1q,T1q0,K_delta = sym.symbols('X_d,X1d,T1d0,X_q,X1q,T1q0,K_delta',real=True)\n",
    "R_a,X_l,H,D,Omega_b,omega_s,V_0,Theta_0 = sym.symbols('R_a,X_l,H,D,Omega_b,omega_s,V_0,Theta_0',real=True)\n",
    "                    \n",
    "                    \n",
    "# auxiliar equations\n",
    "v_d = v_t*sin(delta - theta_t)  # park\n",
    "v_q = v_t*cos(delta - theta_t)  # park\n",
    "\n",
    "p_e = i_d*(v_d + R_a*i_d) + i_q*(v_q + R_a*i_q) # electromagnetic power\n",
    "\n",
    "# dynamic equations\n",
    "ddelta = Omega_b*(omega - omega_s) - K_delta*delta  # load angle\n",
    "domega = 1/(2*H)*(p_m - p_e - D*(omega - omega_s)) # speed\n",
    "de1q = 1/T1d0*(-e1q - (X_d - X1d)*i_d + v_f)\n",
    "de1d = 1/T1q0*(-e1d + (X_q - X1q)*i_q)\n",
    "\n",
    "\n",
    "# algrbraic equations\n",
    "g_1 = v_q + R_a*i_q + X1d*i_d - e1q # stator\n",
    "g_2 = v_d + R_a*i_d - X1q*i_q - e1d # stator\n",
    "g_3 = i_d*v_d + i_q*v_q - p_t # active power \n",
    "g_4 = i_d*v_q - i_q*v_d - q_t # reactive power\n",
    "g_5 = p_t - (v_t*V_0*sin(theta_t - Theta_0))/X_l  # network equation (p)\n",
    "g_6 = q_t + (v_t*V_0*cos(theta_t - Theta_0))/X_l - v_t**2/X_l  # network equation (q)     \n",
    "\n",
    "\n",
    "params_dict = {'X_d':1.81,'X1d':0.3, 'T1d0':8.0,  # synnchronous machine d-axis parameters\n",
    "               'X_q':1.76,'X1q':0.65,'T1q0':1.0,  # synnchronous machine q-axis parameters\n",
    "               'R_a':0.003,\n",
    "               'X_l': 0.02, \n",
    "               'H':3.5,'D':0.0,\n",
    "               'Omega_b':2*np.pi*50,'omega_s':1.0,\n",
    "               'V_0':1.0,'Theta_0':0.0, 'K_delta':1e-8}\n",
    "\n",
    "u_ini_dict = {'p_m':0.8,'v_f':1.0}  # for the initialization problem\n",
    "u_run_dict = {'p_m':0.8,'v_f':1.0}  # for the running problem (here initialization and running problem are the same)\n",
    "\n",
    "f_list = [ddelta,domega,de1q,de1d]\n",
    "x_list = [ delta, omega, e1q, e1d]\n",
    "g_list = [g_1,g_2,g_3,g_4,g_5,g_6]\n",
    "y_list = [i_d,i_q,p_t,q_t,v_t,theta_t]"
   ]
  },
  {
   "cell_type": "code",
   "execution_count": 3,
   "id": "18f8515e-6f28-4a71-9785-1178a3c1b658",
   "metadata": {},
   "outputs": [
    {
     "name": "stdout",
     "output_type": "stream",
     "text": [
      "smib\n"
     ]
    }
   ],
   "source": [
    "sys = {'name':'smib_dae','enviroment':'smib',\n",
    "       'params_dict':params_dict,\n",
    "       'f_list':f_list,\n",
    "       'g_list':g_list,\n",
    "       'x_list':x_list,\n",
    "       'y_ini_list':y_list,\n",
    "       'y_run_list':y_list,\n",
    "       'u_run_dict':u_run_dict,\n",
    "       'u_ini_dict':u_ini_dict,\n",
    "       'h_dict':{'p_m':p_m,'p_e':p_e, 'v_f':v_f}}\n",
    "\n",
    "bldr = cbuilder.builder(sys)\n",
    "bldr.build()"
   ]
  },
  {
   "cell_type": "raw",
   "id": "feae3f56-00d5-4453-9090-d93469203b94",
   "metadata": {},
   "source": [
    "para que corra en gym:\n",
    "    \n",
    "    cambiar la forma en que se leen las matrices dato:\n",
    "    \n",
    "    from io import BytesIO\n",
    "\n",
    "        fobj = BytesIO(pkgutil.get_data(__name__, '__pycache__/pendulum_dae_sp_jac_ini_num.npz'))\n",
    "        self.sp_jac_ini = sspa.load_npz(fobj)\n",
    "        \n",
    "        fobj = BytesIO(pkgutil.get_data(__name__, '__pycache__/pendulum_dae_sp_jac_run_num.npz'))\n",
    "        self.sp_jac_run = sspa.load_npz(fobj)       \n",
    "        \n",
    "        fobj = BytesIO(pkgutil.get_data(__name__, '__pycache__/pendulum_dae_sp_jac_trap_num.npz'))\n",
    "        self.sp_jac_trap = sspa.load_npz(fobj)    \n",
    "    \n",
    "    \n",
    "     cambiar la forma de importar\n",
    "import smib.envs.smib_dae_cffi as jacs\n",
    "\n"
   ]
  }
 ],
 "metadata": {
  "kernelspec": {
   "display_name": "Python 3 (ipykernel)",
   "language": "python",
   "name": "python3"
  },
  "language_info": {
   "codemirror_mode": {
    "name": "ipython",
    "version": 3
   },
   "file_extension": ".py",
   "mimetype": "text/x-python",
   "name": "python",
   "nbconvert_exporter": "python",
   "pygments_lexer": "ipython3",
   "version": "3.9.12"
  }
 },
 "nbformat": 4,
 "nbformat_minor": 5
}
