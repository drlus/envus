{
 "cells": [
  {
   "cell_type": "code",
   "execution_count": 13,
   "id": "63efa065",
   "metadata": {},
   "outputs": [],
   "source": [
    "import gym\n",
    "import numpy as np\n",
    "from envus.pendulum import pendulum_env"
   ]
  },
  {
   "cell_type": "code",
   "execution_count": 14,
   "id": "d2cee0e7",
   "metadata": {},
   "outputs": [
    {
     "name": "stderr",
     "output_type": "stream",
     "text": [
      "C:\\Users\\jmmau\\anaconda3\\lib\\site-packages\\gym\\logger.py:34: UserWarning: \u001b[33mWARN: Overriding environment PendulumDAE-v0\u001b[0m\n",
      "  warnings.warn(colorize(\"%s: %s\" % (\"WARN\", msg % args), \"yellow\"))\n"
     ]
    }
   ],
   "source": [
    "gym.envs.register(\n",
    "     id='PendulumDAE-v0',\n",
    "     entry_point='envus.pendulum:PendulumDAEEnv',\n",
    "     max_episode_steps=150\n",
    ")\n",
    "\n",
    "gym.envs.register(\n",
    "     id='smib-v0',\n",
    "     entry_point='envus.smib:PendulumDAEEnv',\n",
    "     max_episode_steps=150\n",
    ")\n",
    "import pendulum\n",
    "#env = gym.make('Pendulum-v1')\n",
    "env = gym.make('PendulumDAE-v0')\n",
    "\n"
   ]
  },
  {
   "cell_type": "code",
   "execution_count": 15,
   "id": "11fd85c5",
   "metadata": {},
   "outputs": [
    {
     "data": {
      "text/plain": [
       "array([-0.96691775,  0.25508827,  0.38568932], dtype=float32)"
      ]
     },
     "execution_count": 15,
     "metadata": {},
     "output_type": "execute_result"
    }
   ],
   "source": [
    "env.reset()"
   ]
  },
  {
   "cell_type": "code",
   "execution_count": 17,
   "id": "f8cf1156",
   "metadata": {},
   "outputs": [
    {
     "data": {
      "text/plain": [
       "(array([-0.98454016,  0.17515889,  1.0810444 ], dtype=float32),\n",
       " -8.528349698587974,\n",
       " False,\n",
       " {})"
      ]
     },
     "execution_count": 17,
     "metadata": {},
     "output_type": "execute_result"
    }
   ],
   "source": [
    "env.step(np.array([1.0]))"
   ]
  },
  {
   "cell_type": "code",
   "execution_count": 18,
   "id": "ca9b573c",
   "metadata": {
    "scrolled": false
   },
   "outputs": [
    {
     "ename": "ModuleNotFoundError",
     "evalue": "jax requires jaxlib to be installed. See https://github.com/google/jax#installation for installation instructions.",
     "output_type": "error",
     "traceback": [
      "\u001b[1;31m---------------------------------------------------------------------------\u001b[0m",
      "\u001b[1;31mModuleNotFoundError\u001b[0m                       Traceback (most recent call last)",
      "\u001b[1;32m~\\anaconda3\\lib\\site-packages\\jax\\_src\\lib\\__init__.py\u001b[0m in \u001b[0;36m<module>\u001b[1;34m\u001b[0m\n\u001b[0;32m     51\u001b[0m \u001b[1;32mtry\u001b[0m\u001b[1;33m:\u001b[0m\u001b[1;33m\u001b[0m\u001b[1;33m\u001b[0m\u001b[0m\n\u001b[1;32m---> 52\u001b[1;33m   \u001b[1;32mimport\u001b[0m \u001b[0mjaxlib\u001b[0m \u001b[1;32mas\u001b[0m \u001b[0mjaxlib\u001b[0m\u001b[1;33m\u001b[0m\u001b[1;33m\u001b[0m\u001b[0m\n\u001b[0m\u001b[0;32m     53\u001b[0m \u001b[1;32mexcept\u001b[0m \u001b[0mModuleNotFoundError\u001b[0m \u001b[1;32mas\u001b[0m \u001b[0merr\u001b[0m\u001b[1;33m:\u001b[0m\u001b[1;33m\u001b[0m\u001b[1;33m\u001b[0m\u001b[0m\n",
      "\u001b[1;31mModuleNotFoundError\u001b[0m: No module named 'jaxlib'",
      "\nThe above exception was the direct cause of the following exception:\n",
      "\u001b[1;31mModuleNotFoundError\u001b[0m                       Traceback (most recent call last)",
      "\u001b[1;32m~\\AppData\\Local\\Temp/ipykernel_33484/3757555224.py\u001b[0m in \u001b[0;36m<module>\u001b[1;34m\u001b[0m\n\u001b[0;32m      1\u001b[0m \u001b[1;32mimport\u001b[0m \u001b[0mgym\u001b[0m\u001b[1;33m\u001b[0m\u001b[1;33m\u001b[0m\u001b[0m\n\u001b[1;32m----> 2\u001b[1;33m \u001b[1;32mimport\u001b[0m \u001b[0mjax\u001b[0m\u001b[1;33m\u001b[0m\u001b[1;33m\u001b[0m\u001b[0m\n\u001b[0m\u001b[0;32m      3\u001b[0m \u001b[1;32mimport\u001b[0m \u001b[0mcoax\u001b[0m\u001b[1;33m\u001b[0m\u001b[1;33m\u001b[0m\u001b[0m\n\u001b[0;32m      4\u001b[0m \u001b[1;32mimport\u001b[0m \u001b[0mhaiku\u001b[0m \u001b[1;32mas\u001b[0m \u001b[0mhk\u001b[0m\u001b[1;33m\u001b[0m\u001b[1;33m\u001b[0m\u001b[0m\n\u001b[0;32m      5\u001b[0m \u001b[1;32mimport\u001b[0m \u001b[0mjax\u001b[0m\u001b[1;33m.\u001b[0m\u001b[0mnumpy\u001b[0m \u001b[1;32mas\u001b[0m \u001b[0mjnp\u001b[0m\u001b[1;33m\u001b[0m\u001b[1;33m\u001b[0m\u001b[0m\n",
      "\u001b[1;32m~\\anaconda3\\lib\\site-packages\\jax\\__init__.py\u001b[0m in \u001b[0;36m<module>\u001b[1;34m\u001b[0m\n\u001b[0;32m     35\u001b[0m \u001b[1;31m# We want the exported object to be the class, so we first import the module\u001b[0m\u001b[1;33m\u001b[0m\u001b[1;33m\u001b[0m\u001b[0m\n\u001b[0;32m     36\u001b[0m \u001b[1;31m# to make sure a later import doesn't overwrite the class.\u001b[0m\u001b[1;33m\u001b[0m\u001b[1;33m\u001b[0m\u001b[0m\n\u001b[1;32m---> 37\u001b[1;33m \u001b[1;32mfrom\u001b[0m \u001b[0mjax\u001b[0m \u001b[1;32mimport\u001b[0m \u001b[0mconfig\u001b[0m \u001b[1;32mas\u001b[0m \u001b[0m_config_module\u001b[0m\u001b[1;33m\u001b[0m\u001b[1;33m\u001b[0m\u001b[0m\n\u001b[0m\u001b[0;32m     38\u001b[0m \u001b[1;32mdel\u001b[0m \u001b[0m_config_module\u001b[0m\u001b[1;33m\u001b[0m\u001b[1;33m\u001b[0m\u001b[0m\n\u001b[0;32m     39\u001b[0m \u001b[1;33m\u001b[0m\u001b[0m\n",
      "\u001b[1;32m~\\anaconda3\\lib\\site-packages\\jax\\config.py\u001b[0m in \u001b[0;36m<module>\u001b[1;34m\u001b[0m\n\u001b[0;32m     16\u001b[0m \u001b[1;33m\u001b[0m\u001b[0m\n\u001b[0;32m     17\u001b[0m \u001b[1;31m# flake8: noqa: F401\u001b[0m\u001b[1;33m\u001b[0m\u001b[1;33m\u001b[0m\u001b[0m\n\u001b[1;32m---> 18\u001b[1;33m \u001b[1;32mfrom\u001b[0m \u001b[0mjax\u001b[0m\u001b[1;33m.\u001b[0m\u001b[0m_src\u001b[0m\u001b[1;33m.\u001b[0m\u001b[0mconfig\u001b[0m \u001b[1;32mimport\u001b[0m \u001b[0mconfig\u001b[0m\u001b[1;33m\u001b[0m\u001b[1;33m\u001b[0m\u001b[0m\n\u001b[0m",
      "\u001b[1;32m~\\anaconda3\\lib\\site-packages\\jax\\_src\\config.py\u001b[0m in \u001b[0;36m<module>\u001b[1;34m\u001b[0m\n\u001b[0;32m     25\u001b[0m \u001b[1;32mimport\u001b[0m \u001b[0mwarnings\u001b[0m\u001b[1;33m\u001b[0m\u001b[1;33m\u001b[0m\u001b[0m\n\u001b[0;32m     26\u001b[0m \u001b[1;33m\u001b[0m\u001b[0m\n\u001b[1;32m---> 27\u001b[1;33m \u001b[1;32mfrom\u001b[0m \u001b[0mjax\u001b[0m\u001b[1;33m.\u001b[0m\u001b[0m_src\u001b[0m \u001b[1;32mimport\u001b[0m \u001b[0mlib\u001b[0m\u001b[1;33m\u001b[0m\u001b[1;33m\u001b[0m\u001b[0m\n\u001b[0m\u001b[0;32m     28\u001b[0m \u001b[1;32mfrom\u001b[0m \u001b[0mjax\u001b[0m\u001b[1;33m.\u001b[0m\u001b[0m_src\u001b[0m\u001b[1;33m.\u001b[0m\u001b[0mlib\u001b[0m \u001b[1;32mimport\u001b[0m \u001b[0mjax_jit\u001b[0m\u001b[1;33m\u001b[0m\u001b[1;33m\u001b[0m\u001b[0m\n\u001b[0;32m     29\u001b[0m \u001b[1;32mfrom\u001b[0m \u001b[0mjax\u001b[0m\u001b[1;33m.\u001b[0m\u001b[0m_src\u001b[0m\u001b[1;33m.\u001b[0m\u001b[0mlib\u001b[0m \u001b[1;32mimport\u001b[0m \u001b[0mtransfer_guard_lib\u001b[0m\u001b[1;33m\u001b[0m\u001b[1;33m\u001b[0m\u001b[0m\n",
      "\u001b[1;32m~\\anaconda3\\lib\\site-packages\\jax\\_src\\lib\\__init__.py\u001b[0m in \u001b[0;36m<module>\u001b[1;34m\u001b[0m\n\u001b[0;32m     52\u001b[0m   \u001b[1;32mimport\u001b[0m \u001b[0mjaxlib\u001b[0m \u001b[1;32mas\u001b[0m \u001b[0mjaxlib\u001b[0m\u001b[1;33m\u001b[0m\u001b[1;33m\u001b[0m\u001b[0m\n\u001b[0;32m     53\u001b[0m \u001b[1;32mexcept\u001b[0m \u001b[0mModuleNotFoundError\u001b[0m \u001b[1;32mas\u001b[0m \u001b[0merr\u001b[0m\u001b[1;33m:\u001b[0m\u001b[1;33m\u001b[0m\u001b[1;33m\u001b[0m\u001b[0m\n\u001b[1;32m---> 54\u001b[1;33m   raise ModuleNotFoundError(\n\u001b[0m\u001b[0;32m     55\u001b[0m     \u001b[1;34m'jax requires jaxlib to be installed. See '\u001b[0m\u001b[1;33m\u001b[0m\u001b[1;33m\u001b[0m\u001b[0m\n\u001b[0;32m     56\u001b[0m     \u001b[1;34m'https://github.com/google/jax#installation for installation instructions.'\u001b[0m\u001b[1;33m\u001b[0m\u001b[1;33m\u001b[0m\u001b[0m\n",
      "\u001b[1;31mModuleNotFoundError\u001b[0m: jax requires jaxlib to be installed. See https://github.com/google/jax#installation for installation instructions."
     ]
    }
   ],
   "source": [
    "import gym\n",
    "import jax\n",
    "import coax\n",
    "import haiku as hk\n",
    "import jax.numpy as jnp\n",
    "from numpy import prod\n",
    "import optax\n",
    "\n",
    "\n",
    "# the name of this script\n",
    "name = 'dsac'\n",
    "\n",
    "# the Pendulum MDP\n",
    "env = gym.make('Pendulum-v1')\n",
    "env = coax.wrappers.TrainMonitor(env, name=name, tensorboard_dir=f\"./data/tensorboard/{name}\")\n",
    "\n",
    "quantile_embedding_dim = 64\n",
    "layer_size = 256\n",
    "num_quantiles = 32\n",
    "\n",
    "\n",
    "def func_pi(S, is_training):\n",
    "    seq = hk.Sequential((\n",
    "        hk.Linear(8), jax.nn.relu,\n",
    "        hk.Linear(8), jax.nn.relu,\n",
    "        hk.Linear(8), jax.nn.relu,\n",
    "        hk.Linear(prod(env.action_space.shape) * 2, w_init=jnp.zeros),\n",
    "        hk.Reshape((*env.action_space.shape, 2)),\n",
    "    ))\n",
    "    x = seq(S)\n",
    "    mu, logvar = x[..., 0], x[..., 1]\n",
    "    return {'mu': mu, 'logvar': logvar}\n",
    "\n",
    "\n",
    "def quantile_net(x, quantile_fractions):\n",
    "    quantiles_emb = coax.utils.quantile_cos_embedding(\n",
    "        quantile_fractions, quantile_embedding_dim)\n",
    "    quantiles_emb = hk.Linear(x.shape[-1])(quantiles_emb)\n",
    "    quantiles_emb = jax.nn.relu(quantiles_emb)\n",
    "    x = x[:, None, :] * quantiles_emb\n",
    "    x = hk.Linear(layer_size)(x)\n",
    "    x = jax.nn.relu(x)\n",
    "    return x\n",
    "\n",
    "\n",
    "def func_q(S, A, is_training):\n",
    "    encoder = hk.Sequential((\n",
    "        hk.Flatten(),\n",
    "        hk.Linear(layer_size),\n",
    "        jax.nn.relu\n",
    "    ))\n",
    "    quantile_fractions = coax.utils.quantiles_uniform(rng=hk.next_rng_key(),\n",
    "                                                      batch_size=S.shape[0],\n",
    "                                                      num_quantiles=num_quantiles)\n",
    "    X = jnp.concatenate((S, A), axis=-1)\n",
    "    x = encoder(X)\n",
    "    quantile_x = quantile_net(x, quantile_fractions=quantile_fractions)\n",
    "    quantile_values = hk.Linear(1)(quantile_x)\n",
    "    return {'values': quantile_values.squeeze(axis=-1),\n",
    "            'quantile_fractions': quantile_fractions}\n",
    "\n",
    "\n",
    "# main function approximators\n",
    "pi = coax.Policy(func_pi, env)\n",
    "q1 = coax.StochasticQ(func_q, env, action_preprocessor=pi.proba_dist.preprocess_variate,\n",
    "                      value_range=None, num_bins=num_quantiles)\n",
    "q2 = coax.StochasticQ(func_q, env, action_preprocessor=pi.proba_dist.preprocess_variate,\n",
    "                      value_range=None, num_bins=num_quantiles)\n",
    "\n",
    "# target network\n",
    "q1_targ = q1.copy()\n",
    "q2_targ = q2.copy()\n",
    "\n",
    "# experience tracer\n",
    "tracer = coax.reward_tracing.NStep(n=5, gamma=0.9, record_extra_info=True)\n",
    "buffer = coax.experience_replay.SimpleReplayBuffer(capacity=50000)\n",
    "alpha = 0.2\n",
    "policy_regularizer = coax.regularizers.NStepEntropyRegularizer(pi,\n",
    "                                                               beta=alpha / tracer.n,\n",
    "                                                               gamma=tracer.gamma,\n",
    "                                                               n=[tracer.n])\n",
    "\n",
    "# updaters (use current pi to update the q-functions and use sampled action in contrast to TD3)\n",
    "qlearning1 = coax.td_learning.SoftClippedDoubleQLearning(\n",
    "    q1, pi_targ_list=[pi], q_targ_list=[q1_targ, q2_targ],\n",
    "    loss_function=coax.value_losses.mse, optimizer=optax.adam(3e-4),\n",
    "    policy_regularizer=policy_regularizer)\n",
    "qlearning2 = coax.td_learning.SoftClippedDoubleQLearning(\n",
    "    q2, pi_targ_list=[pi], q_targ_list=[q1_targ, q2_targ],\n",
    "    loss_function=coax.value_losses.mse, optimizer=optax.adam(3e-4),\n",
    "    policy_regularizer=policy_regularizer)\n",
    "soft_pg = coax.policy_objectives.SoftPG(pi, [q1_targ, q2_targ], optimizer=optax.adam(\n",
    "    1e-3), regularizer=coax.regularizers.NStepEntropyRegularizer(pi,\n",
    "                                                                 beta=alpha / tracer.n,\n",
    "                                                                 gamma=tracer.gamma,\n",
    "                                                                 n=jnp.arange(tracer.n)))\n",
    "\n",
    "\n",
    "# train\n",
    "while env.T < 1000000:\n",
    "    s = env.reset()\n",
    "\n",
    "    for t in range(env.spec.max_episode_steps):\n",
    "        a = pi(s)\n",
    "        s_next, r, done, info = env.step(a)\n",
    "\n",
    "        # trace rewards and add transition to replay buffer\n",
    "        tracer.add(s, a, r, done)\n",
    "        while tracer:\n",
    "            buffer.add(tracer.pop())\n",
    "\n",
    "        # learn\n",
    "        if len(buffer) >= 5000:\n",
    "            transition_batch = buffer.sample(batch_size=256)\n",
    "\n",
    "            # init metrics dict\n",
    "            metrics = {}\n",
    "\n",
    "            # flip a coin to decide which of the q-functions to update\n",
    "            qlearning = qlearning1 if jax.random.bernoulli(q1.rng) else qlearning2\n",
    "            metrics.update(qlearning.update(transition_batch))\n",
    "\n",
    "            # delayed policy updates\n",
    "            if env.T >= 7500 and env.T % 4 == 0:\n",
    "                metrics.update(soft_pg.update(transition_batch))\n",
    "\n",
    "            env.record_metrics(metrics)\n",
    "\n",
    "            # sync target networks\n",
    "            q1_targ.soft_update(q1, tau=0.005)\n",
    "            q2_targ.soft_update(q2, tau=0.005)\n",
    "\n",
    "        if done:\n",
    "            break\n",
    "\n",
    "        s = s_next\n"
   ]
  },
  {
   "cell_type": "code",
   "execution_count": null,
   "id": "b34fdbcf",
   "metadata": {},
   "outputs": [],
   "source": []
  }
 ],
 "metadata": {
  "kernelspec": {
   "display_name": "Python 3 (ipykernel)",
   "language": "python",
   "name": "python3"
  },
  "language_info": {
   "codemirror_mode": {
    "name": "ipython",
    "version": 3
   },
   "file_extension": ".py",
   "mimetype": "text/x-python",
   "name": "python",
   "nbconvert_exporter": "python",
   "pygments_lexer": "ipython3",
   "version": "3.9.7"
  }
 },
 "nbformat": 4,
 "nbformat_minor": 5
}
